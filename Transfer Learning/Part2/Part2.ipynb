{
 "cells": [
  {
   "cell_type": "code",
   "execution_count": 24,
   "metadata": {},
   "outputs": [
    {
     "name": "stdout",
     "output_type": "stream",
     "text": [
      "^C\n"
     ]
    }
   ],
   "source": [
    "!python train.py --epochs=200"
   ]
  },
  {
   "cell_type": "code",
   "execution_count": 26,
   "metadata": {},
   "outputs": [
    {
     "name": "stdout",
     "output_type": "stream",
     "text": [
      "Namespace(batch_size=1, class_path='data\\\\KITTI\\\\classes.names', conf_thres=0.5, image_folder='KITTI_dataset/Imgs/', img_size=416, model_def='config\\\\yolov3_1class.cfg', n_cpu=4, nms_thres=0.5, weights_path='weights/KITTI_classID0_yolov3_165.pth')\n",
      "\n",
      "Performing object detection:\n"
     ]
    }
   ],
   "source": [
    "!python detect.py --weights_path=weights/KITTI_classID0_yolov3_165.pth"
   ]
  },
  {
   "cell_type": "code",
   "execution_count": null,
   "metadata": {},
   "outputs": [
    {
     "name": "stdout",
     "output_type": "stream",
     "text": [
      "Namespace(batch_size=8, class_path='data\\\\KITTI\\\\classes.names', conf_thres=0.5, data_config='config/KITTI_class_ID_0.data', img_size=416, iou_thres=0.5, model_def='config/yolov3_1class.cfg', n_cpu=8, nms_thres=0.5, weights_path='weights/KITTI_classID0_yolov3_200.pth')\n",
      "Compute mAP...\n",
      "Metrics per class:\n",
      "+ Class '0' (Car) - Precision: 0.6048689138576779\n",
      "+ Class '0' (Car) - Recall: 0.7291196388261851\n",
      "+ Class '0' (Car) - AP: 0.6115095900846861\n",
      "+ Class '0' (Car) - F1: 0.6612077789150461\n"
     ]
    },
    {
     "name": "stderr",
     "output_type": "stream",
     "text": [
      "\n",
      "Detecting objects:   0%|          | 0/13 [00:00<?, ?it/s]\n",
      "Detecting objects:   8%|▊         | 1/13 [00:03<00:43,  3.66s/it]\n",
      "Detecting objects:  15%|█▌        | 2/13 [00:03<00:17,  1.58s/it]\n",
      "Detecting objects:  23%|██▎       | 3/13 [00:03<00:09,  1.09it/s]\n",
      "Detecting objects:  31%|███       | 4/13 [00:04<00:05,  1.66it/s]\n",
      "Detecting objects:  38%|███▊      | 5/13 [00:04<00:03,  2.32it/s]\n",
      "Detecting objects:  46%|████▌     | 6/13 [00:04<00:02,  2.88it/s]\n",
      "Detecting objects:  54%|█████▍    | 7/13 [00:04<00:01,  3.43it/s]\n",
      "Detecting objects:  62%|██████▏   | 8/13 [00:04<00:01,  3.94it/s]\n",
      "Detecting objects:  69%|██████▉   | 9/13 [00:04<00:00,  4.35it/s]\n",
      "Detecting objects:  77%|███████▋  | 10/13 [00:05<00:00,  4.66it/s]\n",
      "Detecting objects:  85%|████████▍ | 11/13 [00:05<00:00,  4.83it/s]\n",
      "Detecting objects:  92%|█████████▏| 12/13 [00:05<00:00,  4.99it/s]\n",
      "Detecting objects: 100%|██████████| 13/13 [00:05<00:00,  2.28it/s]\n",
      "\n",
      "Computing AP:   0%|          | 0/1 [00:00<?, ?it/s]\n",
      "Computing AP: 100%|██████████| 1/1 [00:00<00:00, 499.50it/s]\n"
     ]
    }
   ],
   "source": [
    "!python test.py --weights_path=weights/KITTI_classID0_yolov3_200.pth"
   ]
  }
 ],
 "metadata": {
  "kernelspec": {
   "display_name": "Python 3",
   "language": "python",
   "name": "python3"
  },
  "language_info": {
   "codemirror_mode": {
    "name": "ipython",
    "version": 3
   },
   "file_extension": ".py",
   "mimetype": "text/x-python",
   "name": "python",
   "nbconvert_exporter": "python",
   "pygments_lexer": "ipython3",
   "version": "3.7.13"
  },
  "orig_nbformat": 4,
  "vscode": {
   "interpreter": {
    "hash": "6ccfc499a190bb583025c0fab564cfb61273b1c732af882b0e37e10e66d0b0c9"
   }
  }
 },
 "nbformat": 4,
 "nbformat_minor": 2
}
