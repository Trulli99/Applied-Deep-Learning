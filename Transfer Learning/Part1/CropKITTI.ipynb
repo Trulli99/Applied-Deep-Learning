{
 "cells": [
  {
   "cell_type": "code",
   "execution_count": 1,
   "metadata": {},
   "outputs": [
    {
     "name": "stderr",
     "output_type": "stream",
     "text": [
      "c:\\Users\\Goncalo\\miniconda3\\envs\\APA2022\\lib\\site-packages\\tqdm\\auto.py:22: TqdmWarning: IProgress not found. Please update jupyter and ipywidgets. See https://ipywidgets.readthedocs.io/en/stable/user_install.html\n",
      "  from .autonotebook import tqdm as notebook_tqdm\n"
     ]
    }
   ],
   "source": [
    "import os\n",
    "import sys\n",
    "import numpy as np\n",
    "from PIL import Image\n",
    "import csv\n",
    "import torchvision.transforms as transforms"
   ]
  },
  {
   "cell_type": "code",
   "execution_count": 2,
   "metadata": {},
   "outputs": [],
   "source": [
    "list_path = \"YOLO/data/KITTI/dataset.txt\"\n",
    "\n",
    "with open(list_path, \"r\") as file:\n",
    "    img_files = file.readlines()\n",
    "\n",
    "label_files = [path.replace(\"Imgs\",os.path.join('labels')).replace('.png','.txt') for path in img_files]\n",
    "\n",
    "k = 0\n",
    "for j in range(0,len(img_files)-1):\n",
    "    img_path = img_files[j % len(img_files)].rstrip()\n",
    "\n",
    "    # Extract image as PyTorch tensor\n",
    "    img = transforms.ToTensor()(Image.open(img_path))\n",
    "\n",
    "    # Handle images with less than three channels\n",
    "    if len(img.shape) != 3:\n",
    "        img = img.unsqueeze(0)\n",
    "        img = img.expand((3, img.shape[1:]))\n",
    "\n",
    "    _, h, w = img.shape\n",
    "    h_factor, w_factor = (h, w)\n",
    "\n",
    "    # label\n",
    "    label_path = label_files[j % len(img_files)].rstrip()\n",
    "\n",
    "    if os.path.exists(label_path):\n",
    "            boxes = np.loadtxt(label_path).reshape(-1, 5)\n",
    "\n",
    "            # Extract coordinates\n",
    "            x1 = w*(boxes[:, 1] - boxes[:, 3] / 2)\n",
    "            y1 = h*(boxes[:, 2] - boxes[:, 4] / 2)\n",
    "            x2 = w*(boxes[:, 1] + boxes[:, 3] / 2)\n",
    "            y2 = h*(boxes[:, 2] + boxes[:, 4] / 2)\n",
    "            \n",
    "            # Convert tensor to PIL Image\n",
    "            img = transforms.ToPILImage()(img)\n",
    "            \n",
    "            # Crop Image\n",
    "            for i in range(len(boxes)):    \n",
    "                cropped_img = img.crop((x1[i],y1[i],x2[i],y2[i]))\n",
    "                cropped_img = cropped_img.resize((128, 128))\n",
    "                #cropped_img.show()\n",
    "                cropped_img.save(\"D:\\APA\\APA-Work2\\CropDataset\\id{0}_{1}.png\".format(boxes[i,0],k))\n",
    "                k+=1\n",
    "\n"
   ]
  }
 ],
 "metadata": {
  "kernelspec": {
   "display_name": "Python 3",
   "language": "python",
   "name": "python3"
  },
  "language_info": {
   "codemirror_mode": {
    "name": "ipython",
    "version": 3
   },
   "file_extension": ".py",
   "mimetype": "text/x-python",
   "name": "python",
   "nbconvert_exporter": "python",
   "pygments_lexer": "ipython3",
   "version": "3.7.13"
  },
  "orig_nbformat": 4,
  "vscode": {
   "interpreter": {
    "hash": "6ccfc499a190bb583025c0fab564cfb61273b1c732af882b0e37e10e66d0b0c9"
   }
  }
 },
 "nbformat": 4,
 "nbformat_minor": 2
}
